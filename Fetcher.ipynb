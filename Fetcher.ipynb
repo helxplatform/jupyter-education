{
 "cells": [
  {
   "cell_type": "markdown",
   "metadata": {},
   "source": [
    "#  Fetching files\n",
    "\n",
    "Use the comp116.fetch command to fetch files from the server\n"
   ]
  },
  {
   "cell_type": "code",
   "execution_count": null,
   "metadata": {},
   "outputs": [],
   "source": [
    "import comp116\n",
    "\n",
    "count, messages = comp116.fetch()\n",
    "if messages:\n",
    "    print(f'COMP116 fetch messages: {messages}')\n",
    "print(f'COMP116 fetch retrieved {count} files')"
   ]
  }
 ],
 "metadata": {
  "kernelspec": {
   "display_name": "Python 3 (ipykernel)",
   "language": "python",
   "name": "python3"
  },
  "language_info": {
   "codemirror_mode": {
    "name": "ipython",
    "version": 3
   },
   "file_extension": ".py",
   "mimetype": "text/x-python",
   "name": "python",
   "nbconvert_exporter": "python",
   "pygments_lexer": "ipython3",
   "version": "3.9.5"
  }
 },
 "nbformat": 4,
 "nbformat_minor": 1
}
